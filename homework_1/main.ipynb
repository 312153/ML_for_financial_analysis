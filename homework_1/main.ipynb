{
 "cells": [
  {
   "cell_type": "code",
   "execution_count": 70,
   "metadata": {},
   "outputs": [],
   "source": [
    "import yfinance as yf\n",
    "import os\n",
    "import pandas as pd\n",
    "import ccxt\n",
    "from datetime import datetime\n",
    "from dateutil.relativedelta import relativedelta"
   ]
  },
  {
   "cell_type": "markdown",
   "metadata": {},
   "source": [
    "**Загружаем данные акций из индекса S&P500**"
   ]
  },
  {
   "cell_type": "code",
   "execution_count": 71,
   "metadata": {},
   "outputs": [],
   "source": [
    "finance_data = {}\n",
    "tickers_sp500 = ['MMM', 'ADBE']\n",
    "\n",
    "for ticker in tickers_sp500:\n",
    "    ticker_data_file_name = os.path.join('data', f'{ticker}.csv')\n",
    "\n",
    "    if not os.path.isfile(ticker_data_file_name):\n",
    "        finance_data[ticker] = yf.Ticker(f'{ticker}').history(period='1y')\n",
    "        finance_data[ticker].to_csv(ticker_data_file_name)\n",
    "    else:\n",
    "        finance_data[ticker] = pd.read_csv(ticker_data_file_name)\n"
   ]
  },
  {
   "cell_type": "markdown",
   "metadata": {},
   "source": [
    "**Загружаем данные по криптовалютам**"
   ]
  },
  {
   "cell_type": "code",
   "execution_count": 72,
   "metadata": {},
   "outputs": [],
   "source": [
    "tickers_crypto = ['BTC', 'ETH', 'SOL', 'XRP']\n",
    "from_ts = datetime.now() - relativedelta(years=1)\n",
    "\n",
    "exchange = ccxt.binance({\n",
    "    'enableRateLimit': True,\n",
    "})\n",
    "\n",
    "since = exchange.parse8601(from_ts.strftime('%Y-%m-%d %H:%M:%S'))\n",
    "\n",
    "for ticker in tickers_crypto:\n",
    "    ticker_data_file_name = os.path.join('data', f'{ticker}.csv')\n",
    "\n",
    "    if not os.path.isfile(ticker_data_file_name):\n",
    "        ohlcv = exchange.fetch_ohlcv(f'{ticker}/USDT', '1d', since=since)\n",
    "        temp_df = pd.DataFrame(ohlcv, columns=['Date', 'Open', 'Hign', 'Low', 'Close', 'Volume'])\n",
    "        temp_df['Date'] = pd.to_datetime(temp_df['Date'], unit='ms')\n",
    "        finance_data[ticker] = temp_df\n",
    "        finance_data[ticker].to_csv(ticker_data_file_name)\n",
    "    else:\n",
    "        finance_data[ticker] = pd.read_csv(ticker_data_file_name)"
   ]
  },
  {
   "cell_type": "markdown",
   "metadata": {},
   "source": [
    "**Находим максимальные цены закрытия**"
   ]
  },
  {
   "cell_type": "code",
   "execution_count": 73,
   "metadata": {},
   "outputs": [
    {
     "name": "stdout",
     "output_type": "stream",
     "text": [
      "The maximum close price of MMM is 134.690\n",
      "The maximum close price of ADBE is 634.760\n",
      "The maximum close price of BTC is 73072.410\n",
      "The maximum close price of ETH is 4064.800\n",
      "The maximum close price of SOL is 202.450\n",
      "The maximum close price of XRP is 0.723\n"
     ]
    }
   ],
   "source": [
    "for ticker in finance_data:\n",
    "    max_close_price = finance_data[ticker]['Close'].max()\n",
    "    print(f'The maximum close price of {ticker} is {max_close_price:.3f}')"
   ]
  }
 ],
 "metadata": {
  "kernelspec": {
   "display_name": "venv",
   "language": "python",
   "name": "python3"
  },
  "language_info": {
   "codemirror_mode": {
    "name": "ipython",
    "version": 3
   },
   "file_extension": ".py",
   "mimetype": "text/x-python",
   "name": "python",
   "nbconvert_exporter": "python",
   "pygments_lexer": "ipython3",
   "version": "3.11.5"
  }
 },
 "nbformat": 4,
 "nbformat_minor": 2
}
